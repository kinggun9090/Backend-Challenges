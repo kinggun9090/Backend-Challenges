{
  "cells": [
    {
      "cell_type": "markdown",
      "metadata": {
        "id": "Z2SeQDSU3Xty"
      },
      "source": [
        "안녕하세요. 수강생 여러분~! Chapter21 ~ 32 수업은 잘 들으셨나요?\n",
        "\n",
        "Chapter21 ~ 32의 수업 내용을 바탕으로 아래 문제를 풀어주시면 됩니다.\n",
        "\n",
        "\n",
        "<br>\n",
        "\n",
        "\n",
        "[**답변 입력 방법**]\n",
        "\n",
        "문제 아래에 있는 코드 입력창에 정답코드를 작성하신 후  __▷ 버튼을 클릭해 코드를 실행__ 해보세요<br>"
      ]
    },
    {
      "cell_type": "markdown",
      "metadata": {
        "id": "GGv4v5YN3Xtz"
      },
      "source": [
        "---"
      ]
    },
    {
      "cell_type": "markdown",
      "metadata": {
        "id": "kzBAbpbD3Xtz"
      },
      "source": [
        "[문제 1]\n",
        "사용자로부터 이름과 나이를 입력 받아, \"안녕하세요, [이름]님! 당신은 [나이]살입니다.\"라고 출력하는 함수 greet_user를 작성하세요."
      ]
    },
    {
      "cell_type": "code",
      "source": [
        "def greet_user(name, age):\n",
        "    print(f\"안녕하세요, {name}님! 당신은 {age}살입니다.\")"
      ],
      "metadata": {
        "id": "pKRcLVFc319K"
      },
      "execution_count": null,
      "outputs": []
    },
    {
      "cell_type": "markdown",
      "metadata": {
        "id": "oljKd3DA3Xt0"
      },
      "source": [
        "---"
      ]
    },
    {
      "cell_type": "markdown",
      "metadata": {
        "id": "bXrkJcBZ3Xt0"
      },
      "source": [
        "[문제 2] 여러 숫자를 입력받아 그 합계를 반환하는 함수 sum_numbers를 작성하세요. 이 때, 가변 매개변수를 사용하세요."
      ]
    },
    {
      "cell_type": "code",
      "source": [
        "def sum_numbers(*args):\n",
        "    return sum(args)"
      ],
      "metadata": {
        "id": "5Ff3Ayuk4KHh"
      },
      "execution_count": null,
      "outputs": []
    },
    {
      "cell_type": "markdown",
      "metadata": {
        "id": "_kUwxqKv3Xt0"
      },
      "source": [
        "---"
      ]
    },
    {
      "cell_type": "markdown",
      "metadata": {
        "id": "T5Xi9eUi3Xt0"
      },
      "source": [
        "[문제 3] 사용자의 이름을 출력하는 함수 print_name을 작성하세요. 만약 이름이 주어지지 않았다면, 기본값으로 \"익명\"을 사용하세요."
      ]
    },
    {
      "cell_type": "code",
      "source": [
        "def print_name(name=\"익명\"):\n",
        "    print(name)"
      ],
      "metadata": {
        "id": "My73f9bO4sWa"
      },
      "execution_count": null,
      "outputs": []
    },
    {
      "cell_type": "markdown",
      "metadata": {
        "id": "VcDdzi4q3Xt0"
      },
      "source": [
        "---"
      ]
    },
    {
      "cell_type": "markdown",
      "metadata": {
        "id": "fzOXUA-q3Xt0"
      },
      "source": [
        "[문제 4] 사용자의 이름, 나이, 성별을 출력하는 함수 print_info를 작성하세요. 이 때, 모든 매개변수는 키워드 매개변수로만 받도록 하세요."
      ]
    },
    {
      "cell_type": "code",
      "source": [
        "def print_info(name, age, gender):\n",
        "    print(f\"이름: {name}, 나이: {age}, 성별: {gender}\")"
      ],
      "metadata": {
        "id": "Con-6Pqw4yxd"
      },
      "execution_count": null,
      "outputs": []
    },
    {
      "cell_type": "markdown",
      "metadata": {
        "id": "3fpiNl8j3Xt0"
      },
      "source": [
        "---"
      ]
    },
    {
      "cell_type": "markdown",
      "metadata": {
        "id": "x6vg2Mtz3Xt0"
      },
      "source": [
        "[문제 5] 두 개의 정수를 받아 합을 반환하는 함수 add를 작성하세요. 매개변수와 반환값에 타입 어노테이션을 추가하세요."
      ]
    },
    {
      "cell_type": "code",
      "source": [
        "def add()"
      ],
      "metadata": {
        "id": "99ksnNL342I0"
      },
      "execution_count": null,
      "outputs": []
    },
    {
      "cell_type": "markdown",
      "metadata": {
        "id": "vxgdhBx83Xt0"
      },
      "source": [
        "---"
      ]
    },
    {
      "cell_type": "markdown",
      "metadata": {
        "id": "NWZTWOPi3Xt0"
      },
      "source": [
        "[문제 6] 0부터 시작하여 n까지의 숫자 중에서 홀수만 생성하는 제너레이터 odd_numbers를 작성하세요."
      ]
    },
    {
      "cell_type": "code",
      "source": [
        "def odd_numbers(n):\n",
        "    for i in range(1, n+1, 2):\n",
        "        yield i"
      ],
      "metadata": {
        "id": "ziFBvRbi5MPd"
      },
      "execution_count": null,
      "outputs": []
    },
    {
      "cell_type": "markdown",
      "metadata": {
        "id": "4jJaWOMa3Xt0"
      },
      "source": [
        "---"
      ]
    },
    {
      "cell_type": "markdown",
      "metadata": {
        "id": "AILa6yG43Xt0"
      },
      "source": [
        "[문제 7] 두 숫자를 더하는 람다 함수를 작성하고, 이를 변수에 할당한 후 사용하세요."
      ]
    },
    {
      "cell_type": "code",
      "source": [
        "def add(x, y):\n",
        "    return x + y\n",
        "\n",
        "add_lambda = lambda x, y: x + y\n",
        "result = add_lambda(3, 4)\n",
        "print(result)"
      ],
      "metadata": {
        "colab": {
          "base_uri": "https://localhost:8080/"
        },
        "id": "7Qz99FLW5VWC",
        "outputId": "288dc4fe-d83f-4738-8b9e-054460a2a078"
      },
      "execution_count": null,
      "outputs": [
        {
          "output_type": "stream",
          "name": "stdout",
          "text": [
            "7\n"
          ]
        }
      ]
    },
    {
      "cell_type": "markdown",
      "metadata": {
        "id": "vateb9Hf3Xt1"
      },
      "source": [
        "---"
      ]
    },
    {
      "cell_type": "markdown",
      "metadata": {
        "id": "2CzdoILz3Xt1"
      },
      "source": [
        "[문제 8] 사용자로부터 3개의 숫자를 입력받아, 이를 튜플로 만든 후 최소값과 최대값을 출력하는 함수 min_max를 작성하세요."
      ]
    },
    {
      "cell_type": "code",
      "source": [
        "def min_max():\n",
        "    numbers = tuple(map(int, input(\"3개의 숫자를 입력하세요: \").split()))\n",
        "    print(f\"최소값: {min(numbers)}, 최대값: {max(numbers)}\")"
      ],
      "metadata": {
        "id": "zIM1CE-u5nUJ"
      },
      "execution_count": null,
      "outputs": []
    },
    {
      "cell_type": "markdown",
      "metadata": {
        "id": "Qn7vh7yc3Xt1"
      },
      "source": [
        "---"
      ]
    },
    {
      "cell_type": "markdown",
      "metadata": {
        "id": "B6hBkb9d3Xt1"
      },
      "source": [
        "[문제 9] 주어진 숫자가 짝수인지 확인하는 함수 is_even을 작성하세요. 짝수라면 True를, 아니라면 False를 반환하세요. 함수 내에서 조기 리턴을 활용하세요."
      ]
    },
    {
      "cell_type": "code",
      "source": [
        "def is_even(number):\n",
        "    if number % 2 == 0:\n",
        "        return True\n",
        "    else:\n",
        "        return False"
      ],
      "metadata": {
        "id": "inCuBc805pq-"
      },
      "execution_count": null,
      "outputs": []
    },
    {
      "cell_type": "markdown",
      "metadata": {
        "id": "8x2VHU7C3Xt1"
      },
      "source": [
        "---"
      ]
    },
    {
      "cell_type": "markdown",
      "metadata": {
        "id": "sttqLEOJ3Xt1"
      },
      "source": [
        "[문제 10] 팩토리얼을 계산하는 재귀 함수 factorial을 작성하세요."
      ]
    },
    {
      "cell_type": "code",
      "source": [
        "def factorial(n):\n",
        "    if n == 0:\n",
        "        return 1\n",
        "    else:\n",
        "        return n * factorial(n-1)"
      ],
      "metadata": {
        "id": "ICWVp9kD5uVt"
      },
      "execution_count": null,
      "outputs": []
    },
    {
      "cell_type": "markdown",
      "metadata": {
        "id": "JApkKhAf3Xt1"
      },
      "source": [
        "---"
      ]
    },
    {
      "cell_type": "markdown",
      "metadata": {
        "id": "c2-lumEy3Xt1"
      },
      "source": [
        "[문제 11] 문자열 리스트를 받아, 각 문자열의 길이를 출력하는 함수 print_lengths를 작성하세요."
      ]
    },
    {
      "cell_type": "code",
      "source": [
        "def print_lengths(strings):\n",
        "    for string in strings:\n",
        "        print(f\"{string}: {len(string)}\")"
      ],
      "metadata": {
        "id": "yWsCwvmo5wM2"
      },
      "execution_count": null,
      "outputs": []
    },
    {
      "cell_type": "markdown",
      "metadata": {
        "id": "TLC5ayFS3Xt1"
      },
      "source": [
        "---"
      ]
    },
    {
      "cell_type": "markdown",
      "metadata": {
        "id": "xkaG1lnB3Xt1"
      },
      "source": [
        "[문제 12] 두 문자열을 받아서 긴 문자열을 반환하는 함수 longer_string을 작성하세요. 만약 두 문자열의 길이가 같다면, 첫 번째 문자열을 반환하세요."
      ]
    },
    {
      "cell_type": "code",
      "source": [
        "def longer_string(str1, str2):\n",
        "    if len(str1) > len(str2):\n",
        "        return str1\n",
        "    elif len(str1) < len(str2):\n",
        "        return str2\n",
        "    else:\n",
        "        return str1"
      ],
      "metadata": {
        "id": "FHsipwuF5x2X"
      },
      "execution_count": null,
      "outputs": []
    }
  ],
  "metadata": {
    "language_info": {
      "name": "python"
    },
    "colab": {
      "provenance": []
    },
    "kernelspec": {
      "name": "python3",
      "display_name": "Python 3"
    }
  },
  "nbformat": 4,
  "nbformat_minor": 0
}